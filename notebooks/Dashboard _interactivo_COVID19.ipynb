{
 "cells": [
  {
   "cell_type": "code",
   "execution_count": 1,
   "metadata": {},
   "outputs": [],
   "source": [
    "%matplotlib inline\n",
    "import matplotlib.pyplot as plt\n",
    "import pandas as pd\n",
    "import numpy as np\n",
    "import ipywidgets as widgets\n",
    "\n",
    "import mplcursors"
   ]
  },
  {
   "cell_type": "code",
   "execution_count": 2,
   "metadata": {},
   "outputs": [],
   "source": [
    "df = pd.read_csv('data/covid19_confirmados.csv', index_col= 'Country/Region')\n",
    "df = df.drop(columns=['Lat','Long'])\n",
    "df = df.groupby(by=\"Country/Region\", sort=False).aggregate(np.sum)\n",
    "df.columns = pd.to_datetime(df.columns)\n",
    "dicc_nombres = {\"Burma\": \"Myanmar\",\n",
    "                \"Congo (Brazzaville)\": \"Congo\",\n",
    "                \"Congo (Kinshasa)\": \"DR Congo\",\n",
    "                \"Cote d'Ivoire\": \"Côte d'Ivoire\",\n",
    "                \"Czechia\": \"Czech Republic (Czechia)\",\n",
    "                \"Korea, South\": \"South Korea\",\n",
    "                \"Saint Kitts and Nevis\": \"Saint Kitts & Nevis\",\n",
    "                \"Saint Vincent and the Grenadines\": \"St. Vincent & Grenadines\",\n",
    "                \"Sao Tome and Principe\": \"Sao Tome & Principe\",\n",
    "                \"Taiwan*\": \"Taiwan\",\n",
    "                \"US\": \"United States\"\n",
    "               }\n",
    "\n",
    "df = df.rename(index=dicc_nombres)\n",
    "df_pop_by_country = pd.read_csv('data/poblacion_mundial2020.csv', index_col='Country (or dependency)')\n",
    "df_pop_by_country.index.name=\"Country/Region\"\n",
    "df2 = df_pop_by_country['Population (2020)']\n",
    "df_confirmados = pd.merge(df,df2,how='inner', on=\"Country/Region\")\n",
    "df_confirmados = df_confirmados.rename(columns=lambda x: pd.to_datetime(x) if x!='Population (2020)' else x) "
   ]
  },
  {
   "cell_type": "code",
   "execution_count": 3,
   "metadata": {},
   "outputs": [],
   "source": [
    "def normalize_dfcovid(dataframe):\n",
    "    dicc_nombres = {\"Burma\": \"Myanmar\",\n",
    "                \"Congo (Brazzaville)\": \"Congo\",\n",
    "                \"Congo (Kinshasa)\": \"DR Congo\",\n",
    "                \"Cote d'Ivoire\": \"Côte d'Ivoire\",\n",
    "                \"Czechia\": \"Czech Republic (Czechia)\",\n",
    "                \"Korea, South\": \"South Korea\",\n",
    "                \"Saint Kitts and Nevis\": \"Saint Kitts & Nevis\",\n",
    "                \"Saint Vincent and the Grenadines\": \"St. Vincent & Grenadines\",\n",
    "                \"Sao Tome and Principe\": \"Sao Tome & Principe\",\n",
    "                \"Taiwan*\": \"Taiwan\",\n",
    "                \"US\": \"United States\"\n",
    "               }\n",
    "    df = pd.read_csv('data/' + dataframe, index_col= 'Country/Region')\n",
    "    df = df.drop(columns=['Lat','Long'])\n",
    "    df = df.groupby(by=\"Country/Region\", sort=False).aggregate(np.sum)\n",
    "    df.columns = pd.to_datetime(df.columns)\n",
    "    df = df.rename(index=dicc_nombres)\n",
    "    \n",
    "    df_pop_by_country = pd.read_csv('data/poblacion_mundial2020.csv', index_col='Country (or dependency)')\n",
    "    df_pop_by_country.index.name=\"Country/Region\"\n",
    "    df2 = df_pop_by_country['Population (2020)']\n",
    "    df3 = pd.merge(df,df2,how='inner', on=\"Country/Region\")\n",
    "    \n",
    "    return df3"
   ]
  },
  {
   "cell_type": "code",
   "execution_count": 4,
   "metadata": {},
   "outputs": [],
   "source": [
    "df_recuperados = normalize_dfcovid(\"covid19_recuperados.csv\")\n",
    "df_muertes = normalize_dfcovid(\"covid19_muertes.csv\")\n",
    "\n",
    "df_recuperados = df_recuperados.rename( columns= lambda x: pd.to_datetime(x) if x!='Population (2020)' else x)\n",
    "df_muertes = df_muertes.rename( columns= lambda x: pd.to_datetime(x) if x!='Population (2020)' else x)"
   ]
  },
  {
   "cell_type": "code",
   "execution_count": 5,
   "metadata": {},
   "outputs": [],
   "source": [
    "def tasa (date,df):\n",
    "    df_aux = pd.DataFrame()\n",
    "    df_aux['tasa'] = (df.loc[:,pd.Timestamp(date)].apply( lambda x: x*100000) )/ df.loc[:,'Population (2020)']\n",
    "    return df_aux"
   ]
  },
  {
   "cell_type": "code",
   "execution_count": 6,
   "metadata": {},
   "outputs": [],
   "source": [
    "url = \"https://gist.githubusercontent.com/kintero/7d1db891401f56256c79/raw/a61f6d0dda82c3f04d2e6e76c3870552ef6cf0c6/paises.csv\"\n",
    "#info_country = pd.read_csv(url, sep=',', index_col=' name')\n",
    "info_country = pd.read_csv(url, sep=',', index_col=' phone_code')"
   ]
  },
  {
   "cell_type": "code",
   "execution_count": 7,
   "metadata": {},
   "outputs": [],
   "source": [
    "def tasa_rango_de_tiempo(date_start,date_end, df):\n",
    "        df_aux = pd.DataFrame()\n",
    "        df_aux['tasa'] = df.loc[:,pd.Timestamp(date_start) : pd.Timestamp(date_end)].sum(axis=1) * 100000/ df.loc[:,'Population (2020)']\n",
    "        df_aux = pd.merge(df_aux,info_country,how='inner', on=\"Country/Region\")\n",
    "                \n",
    "        df_aux['continente'].dropna()\n",
    "        df_aux = df_aux.drop(columns=['phone_code'])\n",
    "        \n",
    "        return df_aux"
   ]
  },
  {
   "cell_type": "code",
   "execution_count": 8,
   "metadata": {},
   "outputs": [],
   "source": [
    "info_country = info_country.drop(columns=['nombre',' nom',' iso3'])\n",
    "info_country.rename(columns={\" name\":\"Country/Region\",\" continente\":\"continente\",\" iso2\":\"iso2\"},inplace = True)\n",
    "info_country.loc[\"243\", \"Country/Region\"] = \"DR Congo\"\n",
    "info_country = info_country.reset_index().set_index(\"Country/Region\")\n",
    "\n",
    "#Se añado los datos de south sudan a mano ya que no se encontraba en la data donde se extraen los datos de código de los países\n",
    "info_country.loc['South Sudan'] = ['211','SS', 'África']\n",
    "info_country.insert(loc=3, column='size', value=50)\n",
    "\n",
    "newnames = {\n",
    "    \"Cape Verde\":\"Cabo Verde\",\n",
    "    \"Czech Republic\":\"Czech Republic (Czechia)\",\n",
    "    \"Ivory Coast\":\"Côte d'Ivoire\",\n",
    "    \"United States of America\":\"United States\",\n",
    "    \"Macedonia\":\"North Macedonia\",\n",
    "    \"Saint Kitts and Nevis\":\"Saint Kitts & Nevis\",\n",
    "    \"Saint Vincent and the Grenadines\":\"St. Vincent & Grenadines\",\n",
    "    \"Sao Tome and Principe\": \"Sao Tome & Principe\",\n",
    "    \"Swaziland\":\"Eswatini\",\n",
    "    \"East Timor\":\"Timor-Leste\",\n",
    "    \"Estados Federados de\":\"Micronesia\",\n",
    "    \"Vatican City State\":\"Holy See\"\n",
    "}\n",
    "\n",
    "info_country = info_country.rename(index=newnames)\n",
    "info_country.rename(columns={\" phone_code\":\"phone_code\"},inplace = True)\n",
    "\n",
    "df_confirmados_extend = pd.merge(df_confirmados,info_country,how='inner', on=\"Country/Region\")\n",
    "df_muertes_extend = pd.merge(df_confirmados,info_country,how='inner', on=\"Country/Region\")\n",
    "df_recuperados_extend = pd.merge(df_confirmados,info_country,how='inner', on=\"Country/Region\")\n",
    "\n",
    "df_incidencias_enero_20 = tasa_rango_de_tiempo('2020-01-22','2020-01-31', df_confirmados_extend)\n",
    "df_incidencias_enero_21 = tasa_rango_de_tiempo('2021-01-01','2021-01-31', df_confirmados_extend)\n",
    "df_incidencias_enero_22 = tasa_rango_de_tiempo('2022-01-01','2022-01-31', df_confirmados_extend)\n",
    "\n",
    "df_muertes_enero_20 = tasa_rango_de_tiempo('2020-01-22','2020-01-31', df_muertes_extend)\n",
    "df_muertes_enero_21 = tasa_rango_de_tiempo('2021-01-01','2021-01-31', df_muertes_extend)\n",
    "df_muertes_enero_22 = tasa_rango_de_tiempo('2022-01-01','2022-01-31', df_muertes_extend)\n",
    "\n",
    "#Se establecen los colores de cada continente para graficar\n",
    "colors = {'África':'black','América':'red','Asia':'yellow','Europa':'blue','Australia y Oceanía':'orange','Antártida':'purple'}"
   ]
  },
  {
   "cell_type": "code",
   "execution_count": 9,
   "metadata": {},
   "outputs": [],
   "source": [
    "#Paises de la OCDE\n",
    "OCDE_countries = [\"United States\",\"Mexico\",\"Japan\",\"Turkey\",\"Germany\",\"United Kingdom\",\"France\",\"Italy\",\"South Korea\",\"Spain\",\"Canada\",\"Poland\",\"Australia\",\"Chile\",\"Netherlands\",\n",
    "\"Belgium\",\"Czech Republic (Czechia)\",\"Greece\",\"Sweden\",\"Portugal\",\"Hungary\",\"Austria\",\"Israel\",\"Switzerland\",\"Denmark\",\"Finland\",\"Norway\",\"Slovakia\",\"Ireland\",\"New Zealand\",\"Lithuania\",\n",
    "\"Slovenia\",\"Latvia\",\"Estonia\",\"Luxembourg\",\"Iceland\",\"Costa Rica\"]"
   ]
  },
  {
   "cell_type": "code",
   "execution_count": 12,
   "metadata": {},
   "outputs": [
    {
     "data": {
      "application/vnd.jupyter.widget-view+json": {
       "model_id": "115a03dc4c084688b74111e67f0dbf96",
       "version_major": 2,
       "version_minor": 0
      },
      "text/plain": [
       "Dropdown(description='País 1:', index=7, options=('United States', 'Mexico', 'Japan', 'Turkey', 'Germany', 'Un…"
      ]
     },
     "metadata": {},
     "output_type": "display_data"
    },
    {
     "data": {
      "application/vnd.jupyter.widget-view+json": {
       "model_id": "3e1deea48630420695c032726bce01ed",
       "version_major": 2,
       "version_minor": 0
      },
      "text/plain": [
       "Dropdown(description='País 2:', index=3, options=('United States', 'Mexico', 'Japan', 'Turkey', 'Germany', 'Un…"
      ]
     },
     "metadata": {},
     "output_type": "display_data"
    },
    {
     "data": {
      "application/vnd.jupyter.widget-view+json": {
       "model_id": "0c479f22e3244de2bedef8a1fb0f9dd2",
       "version_major": 2,
       "version_minor": 0
      },
      "text/plain": [
       "Tab(children=(Output(), Output(), Output()), _titles={'0': 'Confirmados', '1': 'Recuperados', '2': 'Decesos'})"
      ]
     },
     "metadata": {},
     "output_type": "display_data"
    }
   ],
   "source": [
    "%matplotlib inline\n",
    "sel_slider = widgets.Dropdown(description=\"País 1:\", \n",
    "                              options=OCDE_countries, value='Italy')\n",
    "\n",
    "sel_slider2 = widgets.Dropdown(description=\"País 2:\", \n",
    "                              options=OCDE_countries, value='Turkey')\n",
    "\n",
    "display(sel_slider)\n",
    "display(sel_slider2)\n",
    "    \n",
    "\n",
    "    \n",
    "out1 = widgets.Output()\n",
    "out2 = widgets.Output()\n",
    "out3 = widgets.Output()\n",
    "\n",
    "\n",
    "tab = widgets.Tab(children = [out1, out2, out3])\n",
    "tab.set_title(0, 'Confirmados')\n",
    "tab.set_title(1, 'Recuperados')\n",
    "tab.set_title(2, 'Decesos')\n",
    "display(tab)\n",
    "\n",
    "with out1:\n",
    "\n",
    "\n",
    "    fig, ax = plt.subplots(figsize=(12, 7), tight_layout=True)\n",
    "    \n",
    "    line = ax.plot(df_confirmados.loc['United States'][0:-1], label = 'United States')\n",
    "    line2 = ax.plot(df_confirmados.loc['Turkey'][0:-1], label = 'Turkey')    \n",
    "    def handler(change):\n",
    "        line[0].set_ydata(df_confirmados.loc[change['new']][0:-1])\n",
    "        line[0].set_label(change['new'])\n",
    "        ax.legend()\n",
    "    \n",
    "    def handler2(change):\n",
    "        line2[0].set_ydata(df_confirmados.loc[change['new']][0:-1])\n",
    "        line2[0].set_label(change['new'])\n",
    "        ax.legend()\n",
    "        \n",
    "    ax.legend()\n",
    "    plt.show(fig)\n",
    "    \n",
    "with out2:\n",
    "\n",
    "    fig2, ax2 = plt.subplots(figsize=(12, 7), tight_layout=True)\n",
    "    \n",
    "    line3 = ax2.plot(df_recuperados.loc['United States'][0:-1] , label = 'United States' )\n",
    "    line4 = ax2.plot(df_recuperados.loc['Turkey'][0:-1], label = 'Turkey')\n",
    "    \n",
    "    def handler3(change):\n",
    "        line3[0].set_ydata(df_recuperados.loc[change['new']][0:-1])\n",
    "        line3[0].set_label(change['new'])\n",
    "        ax2.legend()\n",
    "    \n",
    "    def handler4(change):\n",
    "        line4[0].set_ydata(df_recuperados.loc[change['new']][0:-1])\n",
    "        line4[0].set_label(change['new'])\n",
    "        ax2.legend()\n",
    "        \n",
    "    ax2.legend()\n",
    "    plt.show(fig2)\n",
    "\n",
    "\n",
    "\n",
    "    \n",
    "with out3:\n",
    "\n",
    "    fig3, ax3 = plt.subplots(figsize=(12, 7), tight_layout=True)\n",
    "    \n",
    "    line5 = ax3.plot(df_muertes.loc['United States'][0:-1], label = 'United States')\n",
    "    line6 = ax3.plot(df_muertes.loc['Turkey'][0:-1], label = 'Turkey')\n",
    "    \n",
    "    def handler5(change):\n",
    "        line5[0].set_ydata(df_muertes.loc[change['new']][0:-1])\n",
    "        line5[0].set_label(change['new'])\n",
    "        ax3.legend()\n",
    "    \n",
    "    def handler6(change):\n",
    "        line6[0].set_ydata(df_muertes.loc[change['new']][0:-1])\n",
    "        line6[0].set_label(change['new'])\n",
    "        ax3.legend()\n",
    "        \n",
    "    ax3.legend()    \n",
    "    plt.show(fig3)\n",
    "\n",
    "\n",
    "\n",
    "sel_slider.observe(handler , names='value')\n",
    "sel_slider2.observe(handler2 ,names='value')\n",
    "sel_slider.observe(handler3, names='value')\n",
    "sel_slider2.observe(handler4, names='value')\n",
    "sel_slider.observe(handler5, names='value')\n",
    "sel_slider2.observe(handler6, names='value')"
   ]
  }
 ],
 "metadata": {
  "interpreter": {
   "hash": "b5e7d8a5fdfd77c6266c9333ea5dadece126065d2b6935bd6c2396796134faf8"
  },
  "kernelspec": {
   "display_name": "Python 3.8.5 ('base')",
   "language": "python",
   "name": "python3"
  },
  "language_info": {
   "codemirror_mode": {
    "name": "ipython",
    "version": 3
   },
   "file_extension": ".py",
   "mimetype": "text/x-python",
   "name": "python",
   "nbconvert_exporter": "python",
   "pygments_lexer": "ipython3",
   "version": "3.8.5"
  },
  "orig_nbformat": 4
 },
 "nbformat": 4,
 "nbformat_minor": 2
}
